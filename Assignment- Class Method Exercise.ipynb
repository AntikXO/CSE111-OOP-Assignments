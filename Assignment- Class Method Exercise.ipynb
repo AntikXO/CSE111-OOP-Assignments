{
 "cells": [
  {
   "cell_type": "code",
   "execution_count": 5,
   "id": "fa03348e",
   "metadata": {},
   "outputs": [],
   "source": [
    "class Student:\n",
    "    \n",
    "    university=\"Brac University\"\n",
    "    \n",
    "    @classmethod\n",
    "    def change_uni(cls,uni):\n",
    "        cls.university=uni\n",
    "    \n",
    "    def __init__(self,name,id):\n",
    "        self.name=name\n",
    "        self.id=id\n",
    "    \n",
    "    @staticmethod\n",
    "    def get_id(id):\n",
    "        if id[0:2]==23:\n",
    "            print(\"It is a 2023 student\")\n",
    "        elif id[0:2]==24:\n",
    "            print(\"It is a 2024 student\")\n",
    "            \n",
    "    def details(self):\n",
    "        return f\"{self.name} and ID is {self.id}\"\n",
    "        \n",
    "        \n",
    "class CSEStudent(Student):\n",
    "    \n",
    "    def __init__(self,name,id,labs):\n",
    "        super().__init__(name,id)\n",
    "        self.labs=labs\n",
    "        \n",
    "    def details(self):\n",
    "        print(super().details(), \"has labs no:\", self.labs)"
   ]
  },
  {
   "cell_type": "code",
   "execution_count": 6,
   "id": "27d1163f",
   "metadata": {},
   "outputs": [
    {
     "name": "stdout",
     "output_type": "stream",
     "text": [
      "Antik and ID is 34 has labs no: 2\n"
     ]
    }
   ],
   "source": [
    "s1=CSEStudent(\"Antik\",34,2)\n",
    "s1.details()"
   ]
  },
  {
   "cell_type": "code",
   "execution_count": 4,
   "id": "68c73fd0",
   "metadata": {},
   "outputs": [
    {
     "data": {
      "text/plain": [
       "'NSU'"
      ]
     },
     "execution_count": 4,
     "metadata": {},
     "output_type": "execute_result"
    }
   ],
   "source": [
    "s1=Student(\"Antik\",23201015)\n",
    "Student.change_uni(\"NSU\")\n",
    "s1.university"
   ]
  },
  {
   "cell_type": "code",
   "execution_count": null,
   "id": "2cd18b45",
   "metadata": {},
   "outputs": [],
   "source": []
  }
 ],
 "metadata": {
  "kernelspec": {
   "display_name": "Python 3 (ipykernel)",
   "language": "python",
   "name": "python3"
  },
  "language_info": {
   "codemirror_mode": {
    "name": "ipython",
    "version": 3
   },
   "file_extension": ".py",
   "mimetype": "text/x-python",
   "name": "python",
   "nbconvert_exporter": "python",
   "pygments_lexer": "ipython3",
   "version": "3.11.5"
  }
 },
 "nbformat": 4,
 "nbformat_minor": 5
}
