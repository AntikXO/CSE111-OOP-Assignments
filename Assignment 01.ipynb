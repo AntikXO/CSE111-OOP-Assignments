{
 "cells": [
  {
   "cell_type": "code",
   "execution_count": 21,
   "id": "04dacb42",
   "metadata": {},
   "outputs": [
    {
     "name": "stdout",
     "output_type": "stream",
     "text": [
      "10\n",
      "20\n",
      "20\n",
      "30\n",
      "10\n",
      "50\n",
      "90\n",
      "STOP\n",
      "10 - 2 times\n",
      "20 - 2 times\n",
      "30 - 1 times\n",
      "50 - 1 times\n",
      "90 - 1 times\n"
     ]
    }
   ],
   "source": [
    "###TASK 01###\n",
    "\n",
    "mylist1=[]\n",
    "while True:\n",
    "    a=input()\n",
    "    if a==\"STOP\":\n",
    "        break\n",
    "    else:\n",
    "        mylist1.append(a)\n",
    "\n",
    "mylist2=[]\n",
    "for i in mylist1:\n",
    "    if i not in mylist2:\n",
    "        mylist2.append(i)\n",
    "    elif i in mylist2:\n",
    "        continue\n",
    "\n",
    "for i in range(len(mylist2)):\n",
    "    freq=0\n",
    "    for j in range(len(mylist1)):\n",
    "        if mylist1[j]==mylist2[i]:\n",
    "            freq+=1\n",
    "    print(f\"{mylist2[i]} - {freq} times\")"
   ]
  },
  {
   "cell_type": "code",
   "execution_count": 15,
   "id": "c6c56f18",
   "metadata": {},
   "outputs": [
    {
     "name": "stdout",
     "output_type": "stream",
     "text": [
      "4\n",
      "1 2 3\n",
      "4 5 6\n",
      "10 11 12\n",
      "7 8 9\n",
      "33\n",
      "[10, 11, 12]\n"
     ]
    }
   ],
   "source": [
    "## TASK 02###\n",
    "\n",
    "n=int(input())\n",
    "t=0\n",
    "highest_sum=0\n",
    "highest_list=[]\n",
    "while t<n:\n",
    "    userinput=input().split()\n",
    "    numbers=map(int,userinput)\n",
    "    mylist=list(numbers)\n",
    "    mysum=sum(mylist)\n",
    "    if mysum>highest_sum:\n",
    "        highest_sum=mysum\n",
    "        highest_list=mylist\n",
    "    t+=1\n",
    "    \n",
    "print(highest_sum)\n",
    "print(highest_list)\n"
   ]
  },
  {
   "cell_type": "code",
   "execution_count": 17,
   "id": "a3fe10dd",
   "metadata": {},
   "outputs": [
    {
     "name": "stdout",
     "output_type": "stream",
     "text": [
      "2 3 6\n",
      "3 4 5\n",
      "[6, 8, 10, 9, 12, 15, 18, 24, 30]\n"
     ]
    }
   ],
   "source": [
    "###TASK 03###\n",
    "\n",
    "multiplied_list=[]\n",
    "userinput1=input().split()\n",
    "numbers1=map(int,userinput1)\n",
    "mylist1=list(numbers1)\n",
    "    \n",
    "userinput2=input().split()\n",
    "numbers2=map(int,userinput2)\n",
    "mylist2=list(numbers2)\n",
    "\n",
    "for i in range(len(mylist1)):\n",
    "    for j in range(len(mylist2)):\n",
    "        multiplied_list.append(mylist2[j]*mylist1[i])\n",
    "    \n",
    "    \n",
    "\n",
    "print(multiplied_list)"
   ]
  },
  {
   "cell_type": "code",
   "execution_count": 18,
   "id": "69ed2228",
   "metadata": {},
   "outputs": [
    {
     "name": "stdout",
     "output_type": "stream",
     "text": [
      "Bracu1234\n",
      "acruB1324\n"
     ]
    }
   ],
   "source": [
    "###TASK 05###\n",
    "\n",
    "upper_characters=\"\"\n",
    "lower_characters=\"\"\n",
    "odd_numbers=\"\"\n",
    "even_numbers=\"\"\n",
    "user_input=sorted(input())\n",
    "for i in user_input:\n",
    "    if i.islower():\n",
    "        lower_characters+=i\n",
    "    elif i.isupper():\n",
    "        upper_characters+=i\n",
    "    elif int(i)%2 != 0:\n",
    "        odd_numbers+=i\n",
    "    elif int(i)%2==0:\n",
    "        even_numbers+=i\n",
    "        \n",
    "print(lower_characters+upper_characters+odd_numbers+even_numbers)\n",
    "        \n"
   ]
  },
  {
   "cell_type": "code",
   "execution_count": 15,
   "id": "2ef83e30",
   "metadata": {},
   "outputs": [
    {
     "name": "stdout",
     "output_type": "stream",
     "text": [
      "6 5\n",
      "0 0 0 0 0 0\n",
      "The number of teams that can be formed is 2\n"
     ]
    }
   ],
   "source": [
    "###TASK 06###\n",
    "\n",
    "programmers, desired=input().split()\n",
    "\n",
    "participation_number=input().split()\n",
    "if len(participation_number)==int(programmers):\n",
    "    participation_number=map(int,participation_number)\n",
    "    participation_number=list(participation_number)\n",
    "\n",
    "count=0\n",
    "for i in range(len(participation_number)):\n",
    "    if participation_number[i]+int(desired)<=5:\n",
    "        count+=1\n",
    "        \n",
    "team=count//3\n",
    "print(f\"The number of teams that can be formed is {team}\")"
   ]
  },
  {
   "cell_type": "code",
   "execution_count": 3,
   "id": "6ca9e66b",
   "metadata": {},
   "outputs": [],
   "source": [
    "###DICTIONARY###"
   ]
  },
  {
   "cell_type": "code",
   "execution_count": 53,
   "id": "7c61cd1d",
   "metadata": {},
   "outputs": [
    {
     "name": "stdout",
     "output_type": "stream",
     "text": [
      "a: 100, b: 100, c: 200, d: 300\n",
      "a: 300, b: 200, d: 400, e: 200\n",
      "{'a': 400, 'b': 300, 'c': 200, 'd': 700, 'e': 200}\n",
      "(200, 300, 400, 700)\n"
     ]
    }
   ],
   "source": [
    "###TASK 01###\n",
    "\n",
    "userinput1=input().split(', ')\n",
    "my_list1=[]\n",
    "my_dict1={}\n",
    "for i in range(len(userinput1)):\n",
    "    my_list1+=(userinput1[i].split(':'))\n",
    "    \n",
    "for i in range(0,len(my_list1),2):\n",
    "    my_dict1[my_list1[i]]=int(my_list1[i+1])\n",
    "\n",
    "userinput2=input().split(', ')\n",
    "my_list2=[]\n",
    "my_dict2={}\n",
    "for i in range(len(userinput2)):\n",
    "    my_list2+=(userinput2[i].split(':'))\n",
    "    \n",
    "for i in range(0,len(my_list2),2):\n",
    "    my_dict2[my_list2[i]]=int(my_list2[i+1])\n",
    "\n",
    "my_dict3=dict(my_dict1)\n",
    "my_dict3.update(my_dict2)\n",
    "for a,b in my_dict1.items():\n",
    "    for c,d in my_dict2.items():\n",
    "        if a==c:\n",
    "            my_dict3[a]=b+d\n",
    "\n",
    "print(my_dict3)\n",
    "\n",
    "dict3_values=tuple(my_dict3.values())\n",
    "uniques=[]\n",
    "for i in dict3_values:\n",
    "    if i not in uniques:\n",
    "        uniques.append(i)\n",
    "    else:\n",
    "        continue\n",
    "    \n",
    "print(tuple(sorted(uniques)))\n",
    "    "
   ]
  },
  {
   "cell_type": "code",
   "execution_count": 66,
   "id": "6ebad16b",
   "metadata": {},
   "outputs": [
    {
     "name": "stdout",
     "output_type": "stream",
     "text": [
      "Python programming is fun\n",
      "['p', 'y', 't', 'h', 'o', 'n', 'r', 'g', 'a', 'm', 'i', 's', 'f', 'u']\n",
      "{'p': 2, 'y': 1, 't': 1, 'h': 1, 'o': 2, 'n': 3, 'r': 2, 'g': 2, 'a': 1, 'm': 2, 'i': 2, 's': 1, 'f': 1, 'u': 1}\n"
     ]
    }
   ],
   "source": [
    "###TASK 04###\n",
    "\n",
    "mystr=input()\n",
    "\n",
    "mylist=[]\n",
    "for i in mystr:\n",
    "    if i==\" \":\n",
    "        continue\n",
    "    elif i.lower() not in mylist:\n",
    "        mylist.append(i.lower())\n",
    "    elif i in mylist:\n",
    "        continue\n",
    "\n",
    "mydict={}\n",
    "for i in range(len(mylist)):\n",
    "    freq=0\n",
    "    for j in range(len(mystr)):\n",
    "        if mystr[j].lower()==mylist[i]:\n",
    "            freq+=1\n",
    "    mydict[mylist[i]]=freq\n",
    "            \n",
    "print(mydict)"
   ]
  },
  {
   "cell_type": "code",
   "execution_count": 81,
   "id": "a7d9253a",
   "metadata": {},
   "outputs": [
    {
     "name": "stdout",
     "output_type": "stream",
     "text": [
      "10\n",
      "20\n",
      "20\n",
      "30\n",
      "10\n",
      "50\n",
      "90\n",
      "STOP\n",
      "10-2 times\n",
      "20-2 times\n",
      "30-1 times\n",
      "50-1 times\n",
      "90-1 times\n"
     ]
    }
   ],
   "source": [
    "###TASK 02###\n",
    "\n",
    "mylist1=[]\n",
    "while True:\n",
    "    a=input()\n",
    "    if a==\"STOP\":\n",
    "        break\n",
    "    else:\n",
    "        mylist1.append(int(a))\n",
    "        \n",
    "mydict={}\n",
    "for i in mylist1:\n",
    "    if i in mydict.keys():\n",
    "        mydict[i]+=1\n",
    "    else:\n",
    "        mydict[i]=1\n",
    "\n",
    "for x,y in mydict.items():\n",
    "    print(f\"{x}-{y} times\")"
   ]
  },
  {
   "cell_type": "code",
   "execution_count": 88,
   "id": "a236b25e",
   "metadata": {},
   "outputs": [
    {
     "name": "stdout",
     "output_type": "stream",
     "text": [
      "Hello, World!\n",
      "4433555555666110966677755531111"
     ]
    }
   ],
   "source": [
    "###TASK 06###\n",
    "\n",
    "mydic={\".\":1,\",\":11,\"?\":111,\"!\":1111,\":\":11111,\"A\":2,\"B\":22,\"C\":222,\"D\":3,\"E\":33,\"F\":333,\"G\":4,\"H\":44,\"I\":444,\"J\":5,\"K\":55,\"L\":555,\n",
    " \"M\":6,\"N\":66,\"O\":666,\"P\":7,\"Q\":77,\"R\":777,\"S\":7777,\"T\":8,\"U\":88,\"V\":888,\"W\":9,\"X\":99,\"Y\":999,\"Z\":9999,\" \":0}\n",
    "\n",
    "userinput=input().upper()\n",
    "\n",
    "for i in userinput:\n",
    "    presses=mydic.get(i)\n",
    "    print(presses, end=\"\")"
   ]
  },
  {
   "cell_type": "code",
   "execution_count": 99,
   "id": "a8cb18ac",
   "metadata": {},
   "outputs": [
    {
     "name": "stdout",
     "output_type": "stream",
     "text": [
      "key1:value1, key2:value2, key3:value1\n",
      "{'value1': ['key1', 'key3'], 'value2': ['key2']}\n"
     ]
    }
   ],
   "source": [
    "###TASK 03###\n",
    "\n",
    "userinput1=input().split(', ')\n",
    "my_list1=[]\n",
    "my_dict1={}\n",
    "for i in range(len(userinput1)):\n",
    "    my_list1+=(userinput1[i].split(':'))\n",
    "    \n",
    "for i in range(0,len(my_list1),2):\n",
    "    my_dict1[my_list1[i]]=(my_list1[i+1])\n",
    "    \n",
    "my_dict2={}\n",
    "for i in my_dict1.values():\n",
    "    my_list2=[]\n",
    "    if i not in my_dict2:\n",
    "        for j in my_dict1:\n",
    "            if my_dict1[j]==i:\n",
    "                my_list2.append(j)\n",
    "        my_dict2[i]=my_list2\n",
    "                \n",
    "print(my_dict2)"
   ]
  },
  {
   "cell_type": "code",
   "execution_count": 113,
   "id": "7679b1d8",
   "metadata": {},
   "outputs": [
    {
     "name": "stdout",
     "output_type": "stream",
     "text": [
      "Enter string1: evil\n",
      "Enter string2: baal\n",
      "Those strings are not anagram\n"
     ]
    }
   ],
   "source": [
    "###TASK 05###\n",
    "\n",
    "str1 = input(\"Enter string1: \")\n",
    "str2 = input(\"Enter string2: \")\n",
    "if len(str1)==len(str2):\n",
    "    dict1 = {}\n",
    "    dict2 = {}\n",
    "\n",
    "    dict1[1]=str1\n",
    "    dict2[1]=str2\n",
    "    \n",
    "    for x in range(len(str1)):\n",
    "        if switch==False:\n",
    "            break\n",
    "        for j in range(len(str2)):\n",
    "            if str1[x] == str2[j]:\n",
    "                switch = True\n",
    "                break\n",
    "            else:\n",
    "                switch = False\n",
    "                break\n",
    "else:\n",
    "    switch=False\n",
    "    \n",
    "if switch==True:\n",
    "    print(\"Those strings are anagram\")\n",
    "elif switch==False:\n",
    "    print(\"Those strings are not anagram\")\n",
    "    \n"
   ]
  },
  {
   "cell_type": "code",
   "execution_count": null,
   "id": "79de1df3",
   "metadata": {},
   "outputs": [],
   "source": []
  }
 ],
 "metadata": {
  "kernelspec": {
   "display_name": "Python 3 (ipykernel)",
   "language": "python",
   "name": "python3"
  },
  "language_info": {
   "codemirror_mode": {
    "name": "ipython",
    "version": 3
   },
   "file_extension": ".py",
   "mimetype": "text/x-python",
   "name": "python",
   "nbconvert_exporter": "python",
   "pygments_lexer": "ipython3",
   "version": "3.11.5"
  }
 },
 "nbformat": 4,
 "nbformat_minor": 5
}
