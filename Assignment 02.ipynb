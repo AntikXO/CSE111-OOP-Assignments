{
 "cells": [
  {
   "cell_type": "code",
   "execution_count": 38,
   "id": "cbcbb9f9",
   "metadata": {},
   "outputs": [
    {
     "name": "stdout",
     "output_type": "stream",
     "text": [
      "Highest fee was 1000 tk which was paid by Neymar,Bale\n"
     ]
    }
   ],
   "source": [
    "###TASK 01###\n",
    "\n",
    "def hospital_fee(**players):\n",
    "    max_amount=0\n",
    "    max_payer=\"\"\n",
    "    for i,j in players.items():\n",
    "        if j>=max_amount:\n",
    "            if j==max_amount:\n",
    "                max_payer=max_payer+\",\"+i\n",
    "            else:\n",
    "                max_payer=i\n",
    "            max_amount=j\n",
    "            \n",
    "    return max_amount,max_payer\n",
    "        \n",
    "    \n",
    "max_amount,max_payer=hospital_fee(Neymar=1000, Dembele = 600, Reus = 500, Bale = 1000)\n",
    "print(f\"Highest fee was {max_amount} tk which was paid by {max_payer}\")"
   ]
  },
  {
   "cell_type": "code",
   "execution_count": 50,
   "id": "e177761e",
   "metadata": {},
   "outputs": [
    {
     "data": {
      "text/plain": [
       "True"
      ]
     },
     "execution_count": 50,
     "metadata": {},
     "output_type": "execute_result"
    }
   ],
   "source": [
    "###Task 02###\n",
    "\n",
    "def is_james_bond(mylist):\n",
    "    mylist2=[0,0,7]\n",
    "    for i in range(len(mylist)):\n",
    "        if mylist[i:i+3]==mylist2:\n",
    "            return True\n",
    "    return False\n",
    "        \n",
    "is_james_bond([1, 2, 4, 0, 0, 7, 5])"
   ]
  },
  {
   "cell_type": "code",
   "execution_count": null,
   "id": "47add383",
   "metadata": {},
   "outputs": [],
   "source": []
  },
  {
   "cell_type": "code",
   "execution_count": null,
   "id": "eb656c2c",
   "metadata": {},
   "outputs": [],
   "source": []
  },
  {
   "cell_type": "code",
   "execution_count": 87,
   "id": "5f831f32",
   "metadata": {},
   "outputs": [
    {
     "name": "stdout",
     "output_type": "stream",
     "text": [
      "{'A': ['Bob'], 'B': ['Charlie'], 'C': ['Grace'], 'D': ['Alice', 'David', 'Eve', 'Frank'], 'E': []}\n"
     ]
    }
   ],
   "source": [
    "###TASK 03###\n",
    "\n",
    "def assign_students_to_sections(sections,*names):\n",
    "    mydict={}\n",
    "    for i in sections:\n",
    "        mydict[i]=[]\n",
    "    for i in range(len(names)):\n",
    "        stored_name=names[i]\n",
    "        count=0\n",
    "        for i in range(len(stored_name)):\n",
    "            count+=ord(stored_name[i])\n",
    "        destination=count%len(sections)\n",
    "        mydict[sections[destination]].append(stored_name)\n",
    "    \n",
    "    print(mydict)\n",
    "\n",
    "assign_students_to_sections(\"ABCDE\",'Alice','Bob','Charlie','David','Eve','Frank','Grace')"
   ]
  },
  {
   "cell_type": "code",
   "execution_count": 107,
   "id": "c480cf04",
   "metadata": {},
   "outputs": [],
   "source": [
    "###TASK 06###\n",
    "\n",
    "import random\n",
    "def playRockPaperScissor(rounds):  \n",
    "        a=0\n",
    "        your_score=0\n",
    "        computer_score=0\n",
    "        while a<rounds:\n",
    "            choices=(\"rock\",\"paper\",\"scissors\")\n",
    "            computer=random.choice(choices)\n",
    "            user=input()\n",
    "            print(f\"Computer: {computer}\")\n",
    "            if user==computer:\n",
    "                pass\n",
    "            elif user==\"rock\" and computer==\"scissors\":\n",
    "                your_score+=1\n",
    "            elif user==\"paper\" and computer==\"rock\":\n",
    "                your_score+=1\n",
    "            elif user==\"scissors\" and computer==\"paper\":\n",
    "                your_score+=1\n",
    "            else:\n",
    "                computer_score+=1\n",
    "                \n",
    "            a+=1\n",
    "            \n",
    "        print(f\"Your Score: {your_score}\")\n",
    "        print(f\"Computer's Score: {computer_score}\")\n",
    "        if your_score>computer_score:\n",
    "            print(\"You have won the game!\")\n",
    "        elif your_score<computer_score:\n",
    "            print(\"Computer has won the game!\")\n",
    "        else:\n",
    "            print(\"It's a tie!\")"
   ]
  },
  {
   "cell_type": "code",
   "execution_count": 108,
   "id": "b6bb892e",
   "metadata": {},
   "outputs": [
    {
     "name": "stdout",
     "output_type": "stream",
     "text": [
      "2\n",
      "rock\n",
      "Computer: scissors\n",
      "rock\n",
      "Computer: paper\n",
      "Your Score: 1\n",
      "Computer's Score: 1\n",
      "It's a tie!\n"
     ]
    }
   ],
   "source": [
    "playRockPaperScissor(int(input()))"
   ]
  },
  {
   "cell_type": "code",
   "execution_count": 191,
   "id": "bfece63f",
   "metadata": {},
   "outputs": [
    {
     "name": "stdout",
     "output_type": "stream",
     "text": [
      "First Name:Antik\n",
      "Middle Name:\n",
      "Last Name:Debnath\n",
      "Student ID:23201015\n",
      "ANTath_1015\n"
     ]
    }
   ],
   "source": [
    "###TASK 04###\n",
    "\n",
    "def username_generator(first_name,last_name,student_id,middle_name):\n",
    "    username=\"\"\n",
    "    username+=first_name[0:3].upper()\n",
    "\n",
    "    username+=middle_name\n",
    "\n",
    "    last_name=last_name[-1:-4:-1].lower()\n",
    "    username+=last_name[-1::-1]\n",
    "    \n",
    "    username+=\"_\"\n",
    "\n",
    "    student_id=str(student_id)\n",
    "    student_id=student_id[-1:-5:-1]\n",
    "    username+=student_id[-1::-1]\n",
    "    \n",
    "        \n",
    "    print(username)\n",
    "    \n",
    "first_name,middle_name,last_name,student_id=input(\"First Name:\"),input(\"Middle Name:\"),input(\"Last Name:\"),int(input(\"Student ID:\"))\n",
    "username_generator(first_name,last_name,student_id,middle_name)"
   ]
  },
  {
   "cell_type": "code",
   "execution_count": null,
   "id": "5bc235b9",
   "metadata": {},
   "outputs": [],
   "source": []
  },
  {
   "cell_type": "code",
   "execution_count": 190,
   "id": "427651ea",
   "metadata": {},
   "outputs": [
    {
     "name": "stdout",
     "output_type": "stream",
     "text": [
      "Encrypted Keys: ['a101108X', 'b111B', 't100117114Y']\n"
     ]
    }
   ],
   "source": [
    "###TASK 05###\n",
    "\n",
    "def key_generator(*names):\n",
    "    mylist=[]\n",
    "    for name in names:\n",
    "        key=\"\"\n",
    "        key+=name[0].lower()\n",
    "        for i in range(-2,-len(name),-1):\n",
    "            key+=str(ord(name[i]))\n",
    "        key+=name[-1].upper()\n",
    "        mylist.append(key)\n",
    "    return mylist\n",
    "\n",
    "key_list=key_generator(\"Alex\",\"Bob\",\"Trudy\")\n",
    "print(f\"Encrypted Keys: {key_list}\")"
   ]
  },
  {
   "cell_type": "code",
   "execution_count": null,
   "id": "aadf0d4f",
   "metadata": {},
   "outputs": [],
   "source": []
  }
 ],
 "metadata": {
  "kernelspec": {
   "display_name": "Python 3 (ipykernel)",
   "language": "python",
   "name": "python3"
  },
  "language_info": {
   "codemirror_mode": {
    "name": "ipython",
    "version": 3
   },
   "file_extension": ".py",
   "mimetype": "text/x-python",
   "name": "python",
   "nbconvert_exporter": "python",
   "pygments_lexer": "ipython3",
   "version": "3.11.5"
  }
 },
 "nbformat": 4,
 "nbformat_minor": 5
}
